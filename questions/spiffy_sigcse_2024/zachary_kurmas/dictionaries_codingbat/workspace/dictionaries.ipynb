{
 "cells": [
  {
   "cell_type": "code",
   "execution_count": null,
   "metadata": {},
   "outputs": [],
   "source": [
    "# Data for info.json\n",
    "info = {\n",
    "   \"title\": \"dictionaries\",           # Title of quiz question\n",
    "   \"topic\": \"dictionaries\",    # The topic used to categorize the question on the \"Questions\" page\n",
    "   \"tags\": [\"dictionaries\", \"f23\"]             # tags for use on the \"Questions\" page.\n",
    "}\n",
    "# Note: Title will also be used in the question.html markdown.\n",
    "\n",
    "# The function listed in server.py \n",
    "exported_function = [\n",
    "    {\n",
    "        'name': 'dict_bully',\n",
    "        'description': 'A function that, given a dictionary, has \"b\" take the value of \"a\" and sets \"a\" to \"<stolen>\".'\n",
    "    },\n",
    "    {\n",
    "        'name': 'dict_AB',\n",
    "        'description': 'A function that, given a dictionary, concatenates the values of keys \"a\" and \"b\" into a new key \"ab\".'\n",
    "    },\n",
    "    {\n",
    "        'name': 'topping_1',\n",
    "        'description': 'A function that, given a dictionary, sets \"ice cream\" to \"cherry\" (if present) and \"bread\" to \"butter\".'\n",
    "    },\n",
    "    {\n",
    "        'name': 'topping_2',\n",
    "        'description': 'A function that, given a dictionary, sets \"yogurt\" to match the value of \"ice cream\" (if present) and changes the value of \"spinach\" to \"nuts\" (if present).'\n",
    "    },\n",
    "    {\n",
    "        'name': 'dict_AB2',\n",
    "        'description': 'A function that, given a dictionary, removes both \"a\" and \"b\" keys if they have equal values.'\n",
    "    },\n",
    "    {\n",
    "        'name': 'dict_AB3',\n",
    "        'description': 'A function that, given a dictionary, sets the value of \"a\" to match the value of \"b\".'\n",
    "    },\n",
    "    {\n",
    "        'name': 'dict_AB4',\n",
    "        'description': 'A function that adjusts values in a dictionary based on their lengths.'\n",
    "    }\n",
    "]\n",
    "\n",
    "# examples to display to student\n",
    "displayed_examples = {\n",
    "    \"dict_bully\": [\n",
    "        [{\"a\": \"candy\", \"b\": \"dirt\"}, {\"a\": \"<stolen>\", \"b\": \"candy\"}],\n",
    "        [{\"a\": \"candy\"}, {\"a\": \"<stolen>\", \"b\": \"candy\"}],\n",
    "        [{\"a\": \"candy\", \"b\": \"carrot\", \"c\": \"meh\"}, {\"a\": \"<stolen>\", \"b\": \"candy\", \"c\": \"meh\"}]\n",
    "    ],\n",
    "    \"dict_AB\": [\n",
    "        [{\"a\": \"Hi\", \"b\": \"There\"}, {\"a\": \"Hi\", \"ab\": \"HiThere\", \"b\": \"There\"}],\n",
    "        [{\"a\": \"Hi\"}, {\"a\": \"Hi\"}],\n",
    "        [{\"b\": \"There\"}, {\"b\": \"There\"}]\n",
    "    ],\n",
    "    \"topping_1\": [\n",
    "        [{\"ice cream\": \"peanuts\"}, {\"bread\": \"butter\", \"ice cream\": \"cherry\"}],\n",
    "        [{}, {\"bread\": \"butter\"}],\n",
    "        [{\"pancake\": \"syrup\"}, {\"bread\": \"butter\", \"pancake\": \"syrup\"}]\n",
    "    ],\n",
    "    \"topping_2\": [\n",
    "        [{\"ice cream\": \"cherry\"}, {\"yogurt\": \"cherry\", \"ice cream\": \"cherry\"}],\n",
    "        [{\"spinach\": \"dirt\", \"ice cream\": \"cherry\"}, {\"yogurt\": \"cherry\", \"spinach\": \"nuts\", \"ice cream\": \"cherry\"}],\n",
    "        [{\"yogurt\": \"salt\"}, {\"yogurt\": \"salt\"}]\n",
    "    ],\n",
    "    \"dict_AB2\": [\n",
    "        [{\"a\": \"aaa\", \"b\": \"aaa\", \"c\": \"cake\"}, {\"c\": \"cake\"}],\n",
    "        [{\"a\": \"aaa\", \"b\": \"bbb\"}, {\"a\": \"aaa\", \"b\": \"bbb\"}],\n",
    "        [{\"a\": \"aaa\", \"b\": \"bbb\", \"c\": \"aaa\"}, {\"a\": \"aaa\", \"b\": \"bbb\", \"c\": \"aaa\"}]\n",
    "    ],\n",
    "    \"dict_AB3\": [\n",
    "        [{\"a\": \"aaa\", \"c\": \"cake\"}, {\"a\": \"aaa\", \"b\": \"aaa\", \"c\": \"cake\"}],\n",
    "        [{\"b\": \"bbb\", \"c\": \"cake\"}, {\"a\": \"bbb\", \"b\": \"bbb\", \"c\": \"cake\"}],\n",
    "        [{\"a\": \"aaa\", \"b\": \"bbb\", \"c\": \"cake\"}, {\"a\": \"aaa\", \"b\": \"bbb\", \"c\": \"cake\"}]\n",
    "    ],\n",
    "    \"dict_AB4\": [\n",
    "        [{\"a\": \"aaa\", \"b\": \"bb\", \"c\": \"cake\"}, {\"a\": \"aaa\", \"b\": \"bb\", \"c\": \"aaa\"}],\n",
    "        [{\"a\": \"aa\", \"b\": \"bbb\", \"c\": \"cake\"}, {\"a\": \"aa\", \"b\": \"bbb\", \"c\": \"bbb\"}],\n",
    "        [{\"a\": \"aa\", \"b\": \"bbb\"}, {\"a\": \"aa\", \"b\": \"bbb\", \"c\": \"bbb\"}]\n",
    "    ] \n",
    "}\n",
    "\n",
    "# Test cases\n",
    "test_cases = {\n",
    "    \"dict_bully\": [\n",
    "        [{\"a\": \"candy\", \"b\": \"dirt\"}, {\"a\": \"<stolen>\", \"b\": \"candy\"}],\n",
    "        [{\"a\": \"candy\"}, {\"a\": \"<stolen>\", \"b\": \"candy\"}],\n",
    "        [{\"a\": \"candy\", \"b\": \"carrot\", \"c\": \"meh\"}, {\"a\": \"<stolen>\", \"b\": \"candy\", \"c\": \"meh\"}],\n",
    "        [{\"b\": \"carrot\"}, {\"b\": \"carrot\"}],\n",
    "        [{\"c\": \"meh\"}, {\"c\": \"meh\"}],\n",
    "        [{\"a\": \"sparkle\", \"c\": \"meh\"}, {\"a\": \"<stolen>\", \"b\": \"sparkle\", \"c\": \"meh\"}]\n",
    "    ],\n",
    "    \"dict_AB\": [\n",
    "        [{\"a\": \"Hi\", \"b\": \"There\"}, {\"a\": \"Hi\", \"ab\": \"HiThere\", \"b\": \"There\"}],\n",
    "        [{\"a\": \"Hi\"}, {\"a\": \"Hi\"}],\n",
    "        [{\"b\": \"There\"}, {\"b\": \"There\"}],\n",
    "        [{\"c\": \"meh\"}, {\"c\": \"meh\"}],\n",
    "        [{\"a\": \"aaa\", \"ab\": \"nope\", \"b\": \"bbb\", \"c\": \"ccc\"}, {\"a\": \"aaa\", \"ab\": \"aaabbb\", \"b\": \"bbb\", \"c\": \"ccc\"}],\n",
    "        [{\"ab\": \"nope\", \"b\": \"bbb\", \"c\": \"ccc\"}, {\"ab\": \"nope\", \"b\": \"bbb\", \"c\": \"ccc\"}]\n",
    "    ],\n",
    "    \"topping_1\": [\n",
    "        [{\"ice cream\": \"peanuts\"}, {\"bread\": \"butter\", \"ice cream\": \"cherry\"}],\n",
    "        [{}, {\"bread\": \"butter\"}],\n",
    "        [{\"pancake\": \"syrup\"}, {\"bread\": \"butter\", \"pancake\": \"syrup\"}],\n",
    "        [{\"bread\": \"dirt\", \"ice cream\": \"strawberries\"}, {\"bread\": \"butter\", \"ice cream\": \"cherry\"}],\n",
    "        [{\"bread\": \"jam\", \"ice cream\": \"strawberries\", \"salad\": \"oil\"}, {\"bread\": \"butter\", \"ice cream\": \"cherry\", \"salad\": \"oil\"}]\n",
    "    ],\n",
    "    \"topping_2\": [\n",
    "        [{\"ice cream\": \"cherry\"}, {\"yogurt\": \"cherry\", \"ice cream\": \"cherry\"}],\n",
    "        [{\"spinach\": \"dirt\", \"ice cream\": \"cherry\"}, {\"yogurt\": \"cherry\", \"spinach\": \"nuts\", \"ice cream\": \"cherry\"}],\n",
    "        [{\"yogurt\": \"salt\"}, {\"yogurt\": \"salt\"}],\n",
    "        [{\"yogurt\": \"salt\", \"bread\": \"butter\"}, {\"yogurt\": \"salt\", \"bread\": \"butter\"}],\n",
    "        [{}, {}],\n",
    "        [{\"ice cream\": \"air\", \"salad\": \"oil\"}, {\"yogurt\": \"air\", \"ice cream\": \"air\", \"salad\": \"oil\"}]\n",
    "    ],\n",
    "    \"dict_AB2\": [\n",
    "        [{\"a\": \"aaa\", \"b\": \"aaa\", \"c\": \"cake\"}, {\"c\": \"cake\"}],\n",
    "        [{\"a\": \"aaa\", \"b\": \"bbb\"}, {\"a\": \"aaa\", \"b\": \"bbb\"}],\n",
    "        [{\"a\": \"aaa\", \"b\": \"bbb\", \"c\": \"aaa\"}, {\"a\": \"aaa\", \"b\": \"bbb\", \"c\": \"aaa\"}],\n",
    "        [{\"a\": \"aaa\"}, {\"a\": \"aaa\"}],\n",
    "        [{\"b\": \"bbb\"}, {\"b\": \"bbb\"}],\n",
    "        [{\"a\": \"\", \"b\": \"\", \"c\": \"ccc\"}, {\"c\": \"ccc\"}],\n",
    "        [{}, {}],\n",
    "        [{\"a\": \"a\", \"b\": \"b\", \"z\": \"zebra\"}, {\"a\": \"a\", \"b\": \"b\", \"z\": \"zebra\"}]\n",
    "    ],\n",
    "    \"dict_AB3\": [\n",
    "        [{\"a\": \"aaa\", \"c\": \"cake\"}, {\"a\": \"aaa\", \"b\": \"aaa\", \"c\": \"cake\"}],\n",
    "        [{\"b\": \"bbb\", \"c\": \"cake\"}, {\"a\": \"bbb\", \"b\": \"bbb\", \"c\": \"cake\"}],\n",
    "        [{\"a\": \"aaa\", \"b\": \"bbb\", \"c\": \"cake\"}, {\"a\": \"aaa\", \"b\": \"bbb\", \"c\": \"cake\"}],\n",
    "        [{\"ccc\": \"ccc\"}, {\"ccc\": \"ccc\"}],\n",
    "        [{\"c\": \"a\", \"d\": \"b\"}, {\"c\": \"a\", \"d\": \"b\"}],\n",
    "        [{}, {}],\n",
    "        [{\"a\": \"\"}, {\"a\": \"\", \"b\": \"\"}],\n",
    "        [{\"b\": \"\"}, {\"a\": \"\", \"b\": \"\"}],\n",
    "        [{\"a\": \"\", \"b\": \"\"}, {\"a\": \"\", \"b\": \"\"}],\n",
    "        [{\"aa\": \"aa\", \"a\": \"apple\", \"z\": \"zzz\"}, {\"aa\": \"aa\", \"a\": \"apple\", \"b\": \"apple\", \"z\": \"zzz\"}]\n",
    "    ],\n",
    "    \"dict_AB4\": [\n",
    "        [{\"a\": \"aaa\", \"b\": \"bb\", \"c\": \"cake\"}, {\"a\": \"aaa\", \"b\": \"bb\", \"c\": \"aaa\"}],\n",
    "        [{\"a\": \"aa\", \"b\": \"bbb\", \"c\": \"cake\"}, {\"a\": \"aa\", \"b\": \"bbb\", \"c\": \"bbb\"}],\n",
    "        [{\"a\": \"aa\", \"b\": \"bbb\"}, {\"a\": \"aa\", \"b\": \"bbb\", \"c\": \"bbb\"}],\n",
    "        [{\"a\": \"aaa\"}, {\"a\": \"aaa\"}],\n",
    "        [{\"b\": \"bbb\"}, {\"b\": \"bbb\"}],\n",
    "        [{\"a\": \"aaa\", \"b\": \"bbb\", \"c\": \"cake\"}, {\"a\": \"\", \"b\": \"\", \"c\": \"cake\"}],\n",
    "        [{\"a\": \"a\", \"b\": \"b\", \"c\": \"cake\"}, {\"a\": \"\", \"b\": \"\", \"c\": \"cake\"}],\n",
    "        [{\"a\": \"\", \"b\": \"b\", \"c\": \"cake\"}, {\"a\": \"\", \"b\": \"b\", \"c\": \"b\"}],\n",
    "        [{\"a\": \"a\", \"b\": \"\", \"c\": \"cake\"}, {\"a\": \"a\", \"b\": \"\", \"c\": \"a\"}],\n",
    "        [{\"c\": \"cat\", \"d\": \"dog\"}, {\"c\": \"cat\", \"d\": \"dog\"}],\n",
    "        [{\"ccc\": \"ccc\"}, {\"ccc\": \"ccc\"}],\n",
    "        [{\"c\": \"a\", \"d\": \"b\"}, {\"c\": \"a\", \"d\": \"b\"}],\n",
    "        [{}, {}],\n",
    "        [{\"a\": \"\", \"z\": \"z\"}, {\"a\": \"\", \"z\": \"z\"}],\n",
    "        [{\"b\": \"\", \"z\": \"z\"}, {\"b\": \"\", \"z\": \"z\"}]\n",
    "    ] \n",
    "}"
   ]
  },
  {
   "cell_type": "markdown",
   "metadata": {},
   "source": [
    "# Problem 1\n",
    "\n",
    "Write a function !!!`dict_bully(dict)`!!! that modifies and returns the given dictionary as follows: if the key \"a\" has a value, set the key \"b\" to have that value, and set the key \"a\" to have the value \"\\<stolen\\>\". Essentially, \"b\" acts as a bully, taking the value from \"a\" and replacing it with \"\\<stolen\\>\""
   ]
  },
  {
   "cell_type": "code",
   "execution_count": null,
   "metadata": {},
   "outputs": [],
   "source": [
    "def dict_bully(dict):\n",
    "    if \"a\" in dict and dict[\"a\"] is not None:\n",
    "        dict[\"b\"] = dict[\"a\"]\n",
    "        dict[\"a\"] = \"<stolen>\"\n",
    "    return dict"
   ]
  },
  {
   "cell_type": "markdown",
   "metadata": {},
   "source": [
    "# Problem 2\n",
    "\n",
    "Write a function !!!`dict_AB(dict)`!!! that modifies and returns the given dictionary as follows: If both the keys \"a\" and \"b\" exist in the dictionary, concatenate their string valuues and store the combined result under a new key called \"ab\"."
   ]
  },
  {
   "cell_type": "code",
   "execution_count": null,
   "metadata": {},
   "outputs": [],
   "source": [
    "def dict_AB(dict):\n",
    "    if 'a' in dict and 'b' in dict:\n",
    "        dict['ab'] = dict['a'] + dict['b']\n",
    "    return dict"
   ]
  },
  {
   "cell_type": "markdown",
   "metadata": {},
   "source": [
    "# Problem 3\n",
    "\n",
    "Write a function !!!`topping_1(dict)`!!! that modifies and returns the given dictionary as follows: If the key \"ice cream\" is present, set its value to \"cherry\". In all cases, set the key \"bread\" to have the value \"butter\"."
   ]
  },
  {
   "cell_type": "code",
   "execution_count": null,
   "metadata": {},
   "outputs": [],
   "source": [
    "def topping_1(dict):\n",
    "    if \"ice cream\" in dict:\n",
    "        dict[\"ice cream\"] = \"cherry\"\n",
    "    dict[\"bread\"] = \"butter\"\n",
    "    return dict"
   ]
  },
  {
   "cell_type": "markdown",
   "metadata": {},
   "source": [
    "# Problem 4\n",
    "\n",
    "Write a function !!!`topping_2(dict)`!!! that modifies and returns the given dictionary as follows: If the key \"ice cream\" has a value, set that as the value for the key \"yogurt\" also. If the key \"spinach\" has a value, change that value to \"nuts\"."
   ]
  },
  {
   "cell_type": "code",
   "execution_count": null,
   "metadata": {},
   "outputs": [],
   "source": [
    "def topping_2(dict):\n",
    "    if \"ice cream\" in dict:\n",
    "        dict[\"yogurt\"] = dict[\"ice cream\"]\n",
    "    if \"spinach\" in dict:\n",
    "        dict[\"spinach\"] = \"nuts\"\n",
    "    return dict"
   ]
  },
  {
   "cell_type": "markdown",
   "metadata": {},
   "source": [
    "# Problem 5\n",
    "\n",
    "Write a function !!!`dict_AB2(dict)`!!! that modifies and returns the given dictionary as follows: If the keys \"a\" and \"b\" are both in the dictionary and have equal values, use the del operation to remove them both."
   ]
  },
  {
   "cell_type": "code",
   "execution_count": null,
   "metadata": {},
   "outputs": [],
   "source": [
    "def dict_AB2(dict):\n",
    "    if \"a\" in dict and \"b\" in dict and dict[\"a\"] == dict[\"b\"]:\n",
    "        del dict[\"a\"]\n",
    "        del dict[\"b\"]\n",
    "    return dict"
   ]
  },
  {
   "cell_type": "markdown",
   "metadata": {},
   "source": [
    "# Problem 6\n",
    "\n",
    "Write a function !!!`dict_AB3(dict)`!!! that modifies and returns the given dictionary as follows: If exactly one of the keys \"a\" or \"b\" has a value in the dictionary (but not both), set the other to have that same value in the dictionary."
   ]
  },
  {
   "cell_type": "code",
   "execution_count": null,
   "metadata": {},
   "outputs": [],
   "source": [
    "def dict_AB3(dict):\n",
    "    if \"a\" in dict and \"b\" not in dict:\n",
    "        dict[\"b\"] = dict[\"a\"]\n",
    "    elif \"b\" in dict and \"a\" not in dict:\n",
    "        dict[\"a\"] = dict[\"b\"]\n",
    "    return dict"
   ]
  },
  {
   "cell_type": "markdown",
   "metadata": {},
   "source": [
    "# Problem 7\n",
    "\n",
    "Write a function !!!`dict_AB4(dict)`!!! that modifies and returns the given dictionary as follows: If the keys \"a\" and \"b\" have values that have different lengths, then set \"c\" to have the longer value. If the values exist and have the same length, change them both to the empty string in the dictionary."
   ]
  },
  {
   "cell_type": "code",
   "execution_count": null,
   "metadata": {},
   "outputs": [],
   "source": [
    "def dict_AB4(dict):\n",
    "    if \"a\" in dict and \"b\" in dict:\n",
    "        if len(dict[\"a\"]) != len(dict[\"b\"]):\n",
    "            dict[\"c\"] = dict[\"a\"] if len(dict[\"a\"]) > len(dict[\"b\"]) else dict[\"b\"]\n",
    "        else:\n",
    "            dict[\"a\"] = \"\"\n",
    "            dict[\"b\"] = \"\"\n",
    "    return dict"
   ]
  }
 ],
 "metadata": {
  "kernelspec": {
   "display_name": "Python 3",
   "language": "python",
   "name": "python3"
  },
  "language_info": {
   "codemirror_mode": {
    "name": "ipython",
    "version": 3
   },
   "file_extension": ".py",
   "mimetype": "text/x-python",
   "name": "python",
   "nbconvert_exporter": "python",
   "pygments_lexer": "ipython3",
   "version": "3.9.6"
  },
  "orig_nbformat": 4
 },
 "nbformat": 4,
 "nbformat_minor": 2
}
