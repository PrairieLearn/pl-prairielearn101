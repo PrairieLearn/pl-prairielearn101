{
  "cells": [
    {
      "cell_type": "markdown",
      "metadata": {
        "collapsed": false
      },
      "source": [
        "",
        "# Problem 1\n",
        "\n",
        "Write a function `dict_bully(dict)` that modifies and returns the given dictionary as follows: if the key \"a\" has a value, set the key \"b\" to have that value, and set the key \"a\" to have the value \"\\<stolen\\>\". Essentially, \"b\" acts as a bully, taking the value from \"a\" and replacing it with \"\\<stolen\\>\"",
        "\n",
        "For example:\n",
        "  * `dict_bully({\"a\": \"candy\", \"b\": \"dirt\"})` should return `{'a': '<stolen>', 'b': 'candy'}`\n",
        "  * `dict_bully({\"a\": \"candy\"})` should return `{'a': '<stolen>', 'b': 'candy'}`\n",
        "  * `dict_bully({\"a\": \"candy\", \"b\": \"carrot\", \"c\": \"meh\"})` should return `{'a': '<stolen>', 'b': 'candy', 'c': 'meh'}`\n"
      ]
    },
    {
      "cell_type": "code",
      "execution_count": null,
      "metadata": {
        "collapsed": false
      },
      "outputs": [],
      "source": [
        "#grade IMPORTANT: Do not remove or modify this line\n",
        "def dict_bully(dict):\n",
        "    pass"
      ]
    },
    {
      "cell_type": "markdown",
      "metadata": {
        "collapsed": false
      },
      "source": [
        "",
        "# Problem 2\n",
        "\n",
        "Write a function `dict_AB(dict)` that modifies and returns the given dictionary as follows: If both the keys \"a\" and \"b\" exist in the dictionary, concatenate their string valuues and store the combined result under a new key called \"ab\".",
        "\n",
        "For example:\n",
        "  * `dict_AB({\"a\": \"Hi\", \"b\": \"There\"})` should return `{'a': 'Hi', 'ab': 'HiThere', 'b': 'There'}`\n",
        "  * `dict_AB({\"a\": \"Hi\"})` should return `{'a': 'Hi'}`\n",
        "  * `dict_AB({\"b\": \"There\"})` should return `{'b': 'There'}`\n"
      ]
    },
    {
      "cell_type": "code",
      "execution_count": null,
      "metadata": {
        "collapsed": false
      },
      "outputs": [],
      "source": [
        "#grade IMPORTANT: Do not remove or modify this line\n",
        "def dict_AB(dict):\n",
        "    pass"
      ]
    },
    {
      "cell_type": "markdown",
      "metadata": {
        "collapsed": false
      },
      "source": [
        "",
        "# Problem 3\n",
        "\n",
        "Write a function `topping_1(dict)` that modifies and returns the given dictionary as follows: If the key \"ice cream\" is present, set its value to \"cherry\". In all cases, set the key \"bread\" to have the value \"butter\".",
        "\n",
        "For example:\n",
        "  * `topping_1({\"ice cream\": \"peanuts\"})` should return `{'bread': 'butter', 'ice cream': 'cherry'}`\n",
        "  * `topping_1({})` should return `{'bread': 'butter'}`\n",
        "  * `topping_1({\"pancake\": \"syrup\"})` should return `{'bread': 'butter', 'pancake': 'syrup'}`\n"
      ]
    },
    {
      "cell_type": "code",
      "execution_count": null,
      "metadata": {
        "collapsed": false
      },
      "outputs": [],
      "source": [
        "#grade IMPORTANT: Do not remove or modify this line\n",
        "def topping_1(dict):\n",
        "    pass"
      ]
    },
    {
      "cell_type": "markdown",
      "metadata": {
        "collapsed": false
      },
      "source": [
        "",
        "# Problem 4\n",
        "\n",
        "Write a function `topping_2(dict)` that modifies and returns the given dictionary as follows: If the key \"ice cream\" has a value, set that as the value for the key \"yogurt\" also. If the key \"spinach\" has a value, change that value to \"nuts\".",
        "\n",
        "For example:\n",
        "  * `topping_2({\"ice cream\": \"cherry\"})` should return `{'yogurt': 'cherry', 'ice cream': 'cherry'}`\n",
        "  * `topping_2({\"spinach\": \"dirt\", \"ice cream\": \"cherry\"})` should return `{'yogurt': 'cherry', 'spinach': 'nuts', 'ice cream': 'cherry'}`\n",
        "  * `topping_2({\"yogurt\": \"salt\"})` should return `{'yogurt': 'salt'}`\n"
      ]
    },
    {
      "cell_type": "code",
      "execution_count": null,
      "metadata": {
        "collapsed": false
      },
      "outputs": [],
      "source": [
        "#grade IMPORTANT: Do not remove or modify this line\n",
        "def topping_2(dict):\n",
        "    pass"
      ]
    },
    {
      "cell_type": "markdown",
      "metadata": {
        "collapsed": false
      },
      "source": [
        "",
        "# Problem 5\n",
        "\n",
        "Write a function `dict_AB2(dict)` that modifies and returns the given dictionary as follows: If the keys \"a\" and \"b\" are both in the dictionary and have equal values, use the del operation to remove them both.",
        "\n",
        "For example:\n",
        "  * `dict_AB2({\"a\": \"aaa\", \"b\": \"aaa\", \"c\": \"cake\"})` should return `{'c': 'cake'}`\n",
        "  * `dict_AB2({\"a\": \"aaa\", \"b\": \"bbb\"})` should return `{'a': 'aaa', 'b': 'bbb'}`\n",
        "  * `dict_AB2({\"a\": \"aaa\", \"b\": \"bbb\", \"c\": \"aaa\"})` should return `{'a': 'aaa', 'b': 'bbb', 'c': 'aaa'}`\n"
      ]
    },
    {
      "cell_type": "code",
      "execution_count": null,
      "metadata": {
        "collapsed": false
      },
      "outputs": [],
      "source": [
        "#grade IMPORTANT: Do not remove or modify this line\n",
        "def dict_AB2(dict):\n",
        "    pass"
      ]
    },
    {
      "cell_type": "markdown",
      "metadata": {
        "collapsed": false
      },
      "source": [
        "",
        "# Problem 6\n",
        "\n",
        "Write a function `dict_AB3(dict)` that modifies and returns the given dictionary as follows: If exactly one of the keys \"a\" or \"b\" has a value in the dictionary (but not both), set the other to have that same value in the dictionary.",
        "\n",
        "For example:\n",
        "  * `dict_AB3({\"a\": \"aaa\", \"c\": \"cake\"})` should return `{'a': 'aaa', 'b': 'aaa', 'c': 'cake'}`\n",
        "  * `dict_AB3({\"b\": \"bbb\", \"c\": \"cake\"})` should return `{'a': 'bbb', 'b': 'bbb', 'c': 'cake'}`\n",
        "  * `dict_AB3({\"a\": \"aaa\", \"b\": \"bbb\", \"c\": \"cake\"})` should return `{'a': 'aaa', 'b': 'bbb', 'c': 'cake'}`\n"
      ]
    },
    {
      "cell_type": "code",
      "execution_count": null,
      "metadata": {
        "collapsed": false
      },
      "outputs": [],
      "source": [
        "#grade IMPORTANT: Do not remove or modify this line\n",
        "def dict_AB3(dict):\n",
        "    pass"
      ]
    },
    {
      "cell_type": "markdown",
      "metadata": {
        "collapsed": false
      },
      "source": [
        "",
        "# Problem 7\n",
        "\n",
        "Write a function `dict_AB4(dict)` that modifies and returns the given dictionary as follows: If the keys \"a\" and \"b\" have values that have different lengths, then set \"c\" to have the longer value. If the values exist and have the same length, change them both to the empty string in the dictionary.",
        "\n",
        "For example:\n",
        "  * `dict_AB4({\"a\": \"aaa\", \"b\": \"bb\", \"c\": \"cake\"})` should return `{'a': 'aaa', 'b': 'bb', 'c': 'aaa'}`\n",
        "  * `dict_AB4({\"a\": \"aa\", \"b\": \"bbb\", \"c\": \"cake\"})` should return `{'a': 'aa', 'b': 'bbb', 'c': 'bbb'}`\n",
        "  * `dict_AB4({\"a\": \"aa\", \"b\": \"bbb\"})` should return `{'a': 'aa', 'b': 'bbb', 'c': 'bbb'}`\n"
      ]
    },
    {
      "cell_type": "code",
      "execution_count": null,
      "metadata": {
        "collapsed": false
      },
      "outputs": [],
      "source": [
        "#grade IMPORTANT: Do not remove or modify this line\n",
        "def dict_AB4(dict):\n",
        "    pass"
      ]
    }
  ],
  "metadata": {
    "kernelspec": {
      "display_name": "Python 3 (system-wide)",
      "language": "python",
      "metadata": {
        "cocalc": {
          "description": "Python 3 programming language",
          "priority": 100,
          "url": "https://www.python.org/"
        }
      },
      "name": "python3",
      "resource_dir": "/ext/jupyter/kernels/python3"
    },
    "language_info": {
      "codemirror_mode": {
        "name": "ipython",
        "version": 3
      },
      "file_extension": ".py",
      "mimetype": "text/x-python",
      "name": "python",
      "nbconvert_exporter": "python",
      "pygments_lexer": "ipython3",
      "version": "3.8.2"
    }
  },
  "nbformat": 4,
  "nbformat_minor": 4
}